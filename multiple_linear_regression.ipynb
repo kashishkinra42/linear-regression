{
 "cells": [
  {
   "cell_type": "markdown",
   "metadata": {
    "colab_type": "text",
    "id": "CazISR8X_HUG"
   },
   "source": [
    "# Multiple Linear Regression"
   ]
  },
  {
   "cell_type": "markdown",
   "metadata": {
    "colab_type": "text",
    "id": "pOyqYHTk_Q57"
   },
   "source": [
    "## Importing the libraries"
   ]
  },
  {
   "cell_type": "code",
   "execution_count": 1,
   "metadata": {
    "colab": {},
    "colab_type": "code",
    "id": "T_YHJjnD_Tja"
   },
   "outputs": [],
   "source": [
    "import numpy as np\n",
    "import pandas as pd"
   ]
  },
  {
   "cell_type": "markdown",
   "metadata": {},
   "source": [
    "Creating the dataset"
   ]
  },
  {
   "cell_type": "markdown",
   "metadata": {},
   "source": [
    "y = b0 +b1*x1 +b2*x2 +b3*x3 +b4*x4\n"
   ]
  },
  {
   "cell_type": "code",
   "execution_count": 9,
   "metadata": {},
   "outputs": [
    {
     "data": {
      "text/html": [
       "<div>\n",
       "<style scoped>\n",
       "    .dataframe tbody tr th:only-of-type {\n",
       "        vertical-align: middle;\n",
       "    }\n",
       "\n",
       "    .dataframe tbody tr th {\n",
       "        vertical-align: top;\n",
       "    }\n",
       "\n",
       "    .dataframe thead th {\n",
       "        text-align: right;\n",
       "    }\n",
       "</style>\n",
       "<table border=\"1\" class=\"dataframe\">\n",
       "  <thead>\n",
       "    <tr style=\"text-align: right;\">\n",
       "      <th></th>\n",
       "      <th>Hours_studied</th>\n",
       "      <th>Hours_slept</th>\n",
       "      <th>iQ</th>\n",
       "    </tr>\n",
       "  </thead>\n",
       "  <tbody>\n",
       "    <tr>\n",
       "      <th>0</th>\n",
       "      <td>9.192373</td>\n",
       "      <td>8.517490</td>\n",
       "      <td>9.623341</td>\n",
       "    </tr>\n",
       "    <tr>\n",
       "      <th>1</th>\n",
       "      <td>8.463959</td>\n",
       "      <td>8.372144</td>\n",
       "      <td>3.376198</td>\n",
       "    </tr>\n",
       "  </tbody>\n",
       "</table>\n",
       "</div>"
      ],
      "text/plain": [
       "   Hours_studied  Hours_slept        iQ\n",
       "0       9.192373     8.517490  9.623341\n",
       "1       8.463959     8.372144  3.376198"
      ]
     },
     "execution_count": 9,
     "metadata": {},
     "output_type": "execute_result"
    }
   ],
   "source": [
    "from numpy.random import rand\n",
    "\n",
    "df  = pd.DataFrame(rand( 50 , 3)*10, columns = 'Hours_studied Hours_slept iQ '.split())\n",
    "df.head(2) ## this rand fn in this shows that there will be 50 rows and 3 columns which can have values till 10"
   ]
  },
  {
   "cell_type": "code",
   "execution_count": 10,
   "metadata": {},
   "outputs": [
    {
     "data": {
      "text/html": [
       "<div>\n",
       "<style scoped>\n",
       "    .dataframe tbody tr th:only-of-type {\n",
       "        vertical-align: middle;\n",
       "    }\n",
       "\n",
       "    .dataframe tbody tr th {\n",
       "        vertical-align: top;\n",
       "    }\n",
       "\n",
       "    .dataframe thead th {\n",
       "        text-align: right;\n",
       "    }\n",
       "</style>\n",
       "<table border=\"1\" class=\"dataframe\">\n",
       "  <thead>\n",
       "    <tr style=\"text-align: right;\">\n",
       "      <th></th>\n",
       "      <th>Hours_studied</th>\n",
       "      <th>Hours_slept</th>\n",
       "      <th>iQ</th>\n",
       "      <th>Location</th>\n",
       "    </tr>\n",
       "  </thead>\n",
       "  <tbody>\n",
       "    <tr>\n",
       "      <th>0</th>\n",
       "      <td>9.192373</td>\n",
       "      <td>8.517490</td>\n",
       "      <td>9.623341</td>\n",
       "      <td>Pune</td>\n",
       "    </tr>\n",
       "    <tr>\n",
       "      <th>1</th>\n",
       "      <td>8.463959</td>\n",
       "      <td>8.372144</td>\n",
       "      <td>3.376198</td>\n",
       "      <td>New Delhi</td>\n",
       "    </tr>\n",
       "    <tr>\n",
       "      <th>2</th>\n",
       "      <td>9.829397</td>\n",
       "      <td>3.364057</td>\n",
       "      <td>7.675410</td>\n",
       "      <td>New Delhi</td>\n",
       "    </tr>\n",
       "    <tr>\n",
       "      <th>3</th>\n",
       "      <td>0.923074</td>\n",
       "      <td>5.672812</td>\n",
       "      <td>2.218119</td>\n",
       "      <td>New Delhi</td>\n",
       "    </tr>\n",
       "    <tr>\n",
       "      <th>4</th>\n",
       "      <td>6.773743</td>\n",
       "      <td>2.608290</td>\n",
       "      <td>9.375153</td>\n",
       "      <td>New Delhi</td>\n",
       "    </tr>\n",
       "  </tbody>\n",
       "</table>\n",
       "</div>"
      ],
      "text/plain": [
       "   Hours_studied  Hours_slept        iQ   Location\n",
       "0       9.192373     8.517490  9.623341       Pune\n",
       "1       8.463959     8.372144  3.376198  New Delhi\n",
       "2       9.829397     3.364057  7.675410  New Delhi\n",
       "3       0.923074     5.672812  2.218119  New Delhi\n",
       "4       6.773743     2.608290  9.375153  New Delhi"
      ]
     },
     "execution_count": 10,
     "metadata": {},
     "output_type": "execute_result"
    }
   ],
   "source": [
    "from random import choice\n",
    "\n",
    "location = []\n",
    "for i in range(50):\n",
    "    \n",
    "    location.append(choice([\"New Delhi\" , \"Pune\" , \"Bangalore\"]))\n",
    " \n",
    "\n",
    "df['Location'] = location\n",
    "\n",
    "df.head()"
   ]
  },
  {
   "cell_type": "code",
   "execution_count": 14,
   "metadata": {},
   "outputs": [],
   "source": [
    "df['Marks'] = (1.73 + (3.34*df['Hours_studied'])\n",
    "                    + (2.45*df['Hours_slept'])\n",
    "                    + (1.83*df['iQ']  ))\n",
    "df['Marks'] =  df['Marks'] +np.random.rand(50)*20\n",
    "               \n",
    "df.to_csv('Students.csv',index=False)\n"
   ]
  },
  {
   "cell_type": "code",
   "execution_count": 15,
   "metadata": {},
   "outputs": [
    {
     "data": {
      "text/html": [
       "<div>\n",
       "<style scoped>\n",
       "    .dataframe tbody tr th:only-of-type {\n",
       "        vertical-align: middle;\n",
       "    }\n",
       "\n",
       "    .dataframe tbody tr th {\n",
       "        vertical-align: top;\n",
       "    }\n",
       "\n",
       "    .dataframe thead th {\n",
       "        text-align: right;\n",
       "    }\n",
       "</style>\n",
       "<table border=\"1\" class=\"dataframe\">\n",
       "  <thead>\n",
       "    <tr style=\"text-align: right;\">\n",
       "      <th></th>\n",
       "      <th>Hours_studied</th>\n",
       "      <th>Hours_slept</th>\n",
       "      <th>iQ</th>\n",
       "      <th>Location</th>\n",
       "      <th>Marks</th>\n",
       "    </tr>\n",
       "  </thead>\n",
       "  <tbody>\n",
       "    <tr>\n",
       "      <th>0</th>\n",
       "      <td>9.192373</td>\n",
       "      <td>8.517490</td>\n",
       "      <td>9.623341</td>\n",
       "      <td>Pune</td>\n",
       "      <td>71.149024</td>\n",
       "    </tr>\n",
       "    <tr>\n",
       "      <th>1</th>\n",
       "      <td>8.463959</td>\n",
       "      <td>8.372144</td>\n",
       "      <td>3.376198</td>\n",
       "      <td>New Delhi</td>\n",
       "      <td>64.043939</td>\n",
       "    </tr>\n",
       "    <tr>\n",
       "      <th>2</th>\n",
       "      <td>9.829397</td>\n",
       "      <td>3.364057</td>\n",
       "      <td>7.675410</td>\n",
       "      <td>New Delhi</td>\n",
       "      <td>57.507402</td>\n",
       "    </tr>\n",
       "    <tr>\n",
       "      <th>3</th>\n",
       "      <td>0.923074</td>\n",
       "      <td>5.672812</td>\n",
       "      <td>2.218119</td>\n",
       "      <td>New Delhi</td>\n",
       "      <td>23.427172</td>\n",
       "    </tr>\n",
       "    <tr>\n",
       "      <th>4</th>\n",
       "      <td>6.773743</td>\n",
       "      <td>2.608290</td>\n",
       "      <td>9.375153</td>\n",
       "      <td>New Delhi</td>\n",
       "      <td>54.977915</td>\n",
       "    </tr>\n",
       "  </tbody>\n",
       "</table>\n",
       "</div>"
      ],
      "text/plain": [
       "   Hours_studied  Hours_slept        iQ   Location      Marks\n",
       "0       9.192373     8.517490  9.623341       Pune  71.149024\n",
       "1       8.463959     8.372144  3.376198  New Delhi  64.043939\n",
       "2       9.829397     3.364057  7.675410  New Delhi  57.507402\n",
       "3       0.923074     5.672812  2.218119  New Delhi  23.427172\n",
       "4       6.773743     2.608290  9.375153  New Delhi  54.977915"
      ]
     },
     "execution_count": 15,
     "metadata": {},
     "output_type": "execute_result"
    }
   ],
   "source": [
    "df.head()"
   ]
  },
  {
   "cell_type": "markdown",
   "metadata": {
    "colab_type": "text",
    "id": "vgC61-ah_WIz"
   },
   "source": [
    "## Importing the dataset"
   ]
  },
  {
   "cell_type": "code",
   "execution_count": 16,
   "metadata": {
    "colab": {},
    "colab_type": "code",
    "id": "UrxyEKGn_ez7"
   },
   "outputs": [
    {
     "name": "stdout",
     "output_type": "stream",
     "text": [
      "[[9.192373134602716 8.517490297969564 9.623340835800224 'Pune']\n",
      " [8.463958886096965 8.372143594118672 3.3761982061779605 'New Delhi']\n",
      " [9.829396569764056 3.3640572665064417 7.675410184917728 'New Delhi']\n",
      " [0.92307441753944 5.672812108333659 2.2181187081071627 'New Delhi']\n",
      " [6.773743188741003 2.608290028209513 9.375152604294335 'New Delhi']\n",
      " [3.663500528942396 1.2039312365981758 6.4232658321468215 'New Delhi']\n",
      " [8.935647711483533 6.211605329997729 0.255313310005254 'New Delhi']\n",
      " [3.447774681128384 4.480733826109105 8.099611579294985 'New Delhi']\n",
      " [2.6359083885232093 9.29632351095673 4.8815516003315125 'Bangalore']\n",
      " [9.988550194581332 6.565554859195423 2.21922980103244 'New Delhi']\n",
      " [2.8768817448171244 8.554153967095905 5.13141902441332 'New Delhi']\n",
      " [2.7478476397914484 2.5438119049071477 8.701888717632402 'Pune']\n",
      " [7.874997152298965 8.690796125389216 6.089855013378775 'Pune']\n",
      " [6.416621274794948 1.0497169517412253 1.3148663938359515 'Pune']\n",
      " [7.541000125975956 4.520016715070984 1.5441029246127558 'New Delhi']\n",
      " [5.447184406286484 9.939240836386618 2.113196594663576 'Bangalore']\n",
      " [0.0233204106689011 4.167733141880246 2.875662262345192 'Bangalore']\n",
      " [9.74196180659352 4.096139210340271 0.3781231360842096 'Pune']\n",
      " [8.562667464691572 0.8200010574871197 0.6259449168774911 'Pune']\n",
      " [5.081726244218471 7.704545951255679 2.994221006258464 'New Delhi']\n",
      " [2.7060555949459806 6.749734510243618 8.60955458062497 'Bangalore']\n",
      " [9.78234088587858 2.5490167898138703 2.5321816434947806 'New Delhi']\n",
      " [5.447026470243332 5.431228102739531 6.425625246079619 'Pune']\n",
      " [9.125129050724494 4.428724370644498 0.6154835011231474 'Pune']\n",
      " [5.18416176869834 8.14417810643484 0.49478767249445 'New Delhi']\n",
      " [2.17927740562601 4.179361648181467 3.9366781870843415 'New Delhi']\n",
      " [8.685100877851067 1.8518003916905523 5.972664051638448 'Bangalore']\n",
      " [7.987045857847603 9.893972976210922 0.955276239738192 'Bangalore']\n",
      " [3.04302545277504 2.045824318659508 2.82955914950099 'Bangalore']\n",
      " [3.877925920727092 5.517258424112953 7.889998776799228 'Bangalore']\n",
      " [5.434354337129671 6.301370966337987 9.63656979031877 'Bangalore']\n",
      " [8.903356153362783 8.794169371397254 5.365719351258972 'Pune']\n",
      " [6.05672554888712 2.939981617948165 2.3667153003069954 'Bangalore']\n",
      " [1.1015607119909576 3.445735908629539 3.769487343030312 'New Delhi']\n",
      " [0.9437499510931524 5.241121550664686 7.243972977567741 'Bangalore']\n",
      " [7.408207803226214 2.2682404966686764 3.307394048513933 'Pune']\n",
      " [7.621068400119241 2.153015551757859 5.482126603608362 'New Delhi']\n",
      " [5.284249738045101 6.253361177094286 8.138445676101973 'New Delhi']\n",
      " [0.2049907256608563 8.830628087358335 6.162357068797847 'New Delhi']\n",
      " [4.629076549996353 3.476273291439674 2.264864064920067 'Bangalore']\n",
      " [1.0856957550287805 4.921677316642804 9.562454440839684 'Bangalore']\n",
      " [4.095990623090372 9.64337131151585 7.729906058917572 'Pune']\n",
      " [9.440403906898313 9.939631543008275 6.023613231283429 'New Delhi']\n",
      " [1.8719537686246424 4.434835141967112 2.3332864322317457 'Pune']\n",
      " [8.835478635201493 3.496137461792319 7.096231927887335 'Pune']\n",
      " [3.10015090298557 5.503703332126687 5.709374115878503 'Pune']\n",
      " [1.052368207740798 5.390980275656213 6.826123461860182 'Pune']\n",
      " [8.43339573966184 1.6442729897839214 0.1518487330356122 'Bangalore']\n",
      " [9.710102109622108 4.385079591782199 8.901036575354327 'Bangalore']\n",
      " [7.375448951085827 4.484598617669264 1.6383897451195517 'Bangalore']]\n"
     ]
    }
   ],
   "source": [
    "dataset = pd.read_csv('Students.csv')\n",
    "\n",
    "X = dataset.iloc[:, :-1].values\n",
    "y = dataset.iloc[:, -1].values\n",
    "print(X)"
   ]
  },
  {
   "cell_type": "code",
   "execution_count": 17,
   "metadata": {
    "colab": {
     "base_uri": "https://localhost:8080/",
     "height": 857
    },
    "colab_type": "code",
    "executionInfo": {
     "elapsed": 552,
     "status": "ok",
     "timestamp": 1586353652778,
     "user": {
      "displayName": "Hadelin de Ponteves",
      "photoUrl": "https://lh3.googleusercontent.com/a-/AOh14GhEuXdT7eQweUmRPW8_laJuPggSK6hfvpl5a6WBaA=s64",
      "userId": "15047218817161520419"
     },
     "user_tz": -240
    },
    "id": "GOB3QhV9B5kD",
    "outputId": "4a05377a-2db2-43fc-b824-a0710448baee",
    "scrolled": false
   },
   "outputs": [
    {
     "name": "stdout",
     "output_type": "stream",
     "text": [
      "[71.14902442 64.04393857 57.5074021  23.42717163 54.97791503 47.78071851\n",
      " 59.79606626 48.24954143 42.73692233 63.55684737 42.91424258 47.52923317\n",
      " 78.25819758 35.07247413 54.92003432 56.2403796  37.15264704 61.34514486\n",
      " 48.94632186 60.70826612 44.77001783 63.28662824 52.025174   52.13949897\n",
      " 47.84031674 33.2968655  60.02264687 73.14772145 24.08673759 47.12007189\n",
      " 57.20777812 65.93871286 45.78169262 20.89141058 34.86960718 47.14532401\n",
      " 54.01564423 55.23213514 46.18923582 38.39204712 54.68260318 69.91959493\n",
      " 76.08906577 37.06775967 66.90397113 50.95168865 39.81915938 35.21421731\n",
      " 69.31087045 57.13506929]\n"
     ]
    }
   ],
   "source": [
    "print(y)"
   ]
  },
  {
   "cell_type": "markdown",
   "metadata": {
    "colab_type": "text",
    "id": "VadrvE7s_lS9"
   },
   "source": [
    "## Encoding categorical data"
   ]
  },
  {
   "cell_type": "code",
   "execution_count": 18,
   "metadata": {
    "colab": {},
    "colab_type": "code",
    "id": "wV3fD1mbAvsh"
   },
   "outputs": [
    {
     "name": "stdout",
     "output_type": "stream",
     "text": [
      "ColumnTransformer(remainder='passthrough',\n",
      "                  transformers=[('encoder', OneHotEncoder(), [3])])\n"
     ]
    }
   ],
   "source": [
    "from sklearn.compose import ColumnTransformer \n",
    "##allows different columns of the input to be transformed separately and the features generated by each transformer will be \n",
    "## concatenated to form a single feature space. This is useful for heterogeneous or columnar data,\n",
    "## to combine several feature extraction mechanisms or transformations into a single transformer.\n",
    "from sklearn.preprocessing import OneHotEncoder\n",
    "\n",
    "##The input to transformer should be array-like of integers or strings, denoting the values taken on by categorical (discrete)\n",
    "## features. This creates binary column for each category and returns a sparse matrix or dense array (depending on the sparse_output parameter)\n",
    "ct = ColumnTransformer(transformers=[('encoder', OneHotEncoder(), [3])],  remainder='passthrough')\n",
    "print(ct)\n",
    "\n",
    "X = np.array(ct.fit_transform(X))"
   ]
  },
  {
   "cell_type": "code",
   "execution_count": 20,
   "metadata": {
    "colab": {
     "base_uri": "https://localhost:8080/",
     "height": 857
    },
    "colab_type": "code",
    "executionInfo": {
     "elapsed": 616,
     "status": "ok",
     "timestamp": 1586353657759,
     "user": {
      "displayName": "Hadelin de Ponteves",
      "photoUrl": "https://lh3.googleusercontent.com/a-/AOh14GhEuXdT7eQweUmRPW8_laJuPggSK6hfvpl5a6WBaA=s64",
      "userId": "15047218817161520419"
     },
     "user_tz": -240
    },
    "id": "4ym3HdYeCGYG",
    "outputId": "ce09e670-cf06-4a1c-f5b0-89422aae0496"
   },
   "outputs": [
    {
     "name": "stdout",
     "output_type": "stream",
     "text": [
      "[[0.0 0.0 1.0 9.192373134602716 8.517490297969564 9.623340835800224]\n",
      " [0.0 1.0 0.0 8.463958886096965 8.372143594118672 3.3761982061779605]\n",
      " [0.0 1.0 0.0 9.829396569764056 3.3640572665064417 7.675410184917728]\n",
      " [0.0 1.0 0.0 0.92307441753944 5.672812108333659 2.2181187081071627]\n",
      " [0.0 1.0 0.0 6.773743188741003 2.608290028209513 9.375152604294335]\n",
      " [0.0 1.0 0.0 3.663500528942396 1.2039312365981758 6.4232658321468215]\n",
      " [0.0 1.0 0.0 8.935647711483533 6.211605329997729 0.255313310005254]\n",
      " [0.0 1.0 0.0 3.447774681128384 4.480733826109105 8.099611579294985]\n",
      " [1.0 0.0 0.0 2.6359083885232093 9.29632351095673 4.8815516003315125]\n",
      " [0.0 1.0 0.0 9.988550194581332 6.565554859195423 2.21922980103244]\n",
      " [0.0 1.0 0.0 2.8768817448171244 8.554153967095905 5.13141902441332]\n",
      " [0.0 0.0 1.0 2.7478476397914484 2.5438119049071477 8.701888717632402]\n",
      " [0.0 0.0 1.0 7.874997152298965 8.690796125389216 6.089855013378775]\n",
      " [0.0 0.0 1.0 6.416621274794948 1.0497169517412253 1.3148663938359515]\n",
      " [0.0 1.0 0.0 7.541000125975956 4.520016715070984 1.5441029246127558]\n",
      " [1.0 0.0 0.0 5.447184406286484 9.939240836386618 2.113196594663576]\n",
      " [1.0 0.0 0.0 0.0233204106689011 4.167733141880246 2.875662262345192]\n",
      " [0.0 0.0 1.0 9.74196180659352 4.096139210340271 0.3781231360842096]\n",
      " [0.0 0.0 1.0 8.562667464691572 0.8200010574871197 0.6259449168774911]\n",
      " [0.0 1.0 0.0 5.081726244218471 7.704545951255679 2.994221006258464]\n",
      " [1.0 0.0 0.0 2.7060555949459806 6.749734510243618 8.60955458062497]\n",
      " [0.0 1.0 0.0 9.78234088587858 2.5490167898138703 2.5321816434947806]\n",
      " [0.0 0.0 1.0 5.447026470243332 5.431228102739531 6.425625246079619]\n",
      " [0.0 0.0 1.0 9.125129050724494 4.428724370644498 0.6154835011231474]\n",
      " [0.0 1.0 0.0 5.18416176869834 8.14417810643484 0.49478767249445]\n",
      " [0.0 1.0 0.0 2.17927740562601 4.179361648181467 3.9366781870843415]\n",
      " [1.0 0.0 0.0 8.685100877851067 1.8518003916905523 5.972664051638448]\n",
      " [1.0 0.0 0.0 7.987045857847603 9.893972976210922 0.955276239738192]\n",
      " [1.0 0.0 0.0 3.04302545277504 2.045824318659508 2.82955914950099]\n",
      " [1.0 0.0 0.0 3.877925920727092 5.517258424112953 7.889998776799228]\n",
      " [1.0 0.0 0.0 5.434354337129671 6.301370966337987 9.63656979031877]\n",
      " [0.0 0.0 1.0 8.903356153362783 8.794169371397254 5.365719351258972]\n",
      " [1.0 0.0 0.0 6.05672554888712 2.939981617948165 2.3667153003069954]\n",
      " [0.0 1.0 0.0 1.1015607119909576 3.445735908629539 3.769487343030312]\n",
      " [1.0 0.0 0.0 0.9437499510931524 5.241121550664686 7.243972977567741]\n",
      " [0.0 0.0 1.0 7.408207803226214 2.2682404966686764 3.307394048513933]\n",
      " [0.0 1.0 0.0 7.621068400119241 2.153015551757859 5.482126603608362]\n",
      " [0.0 1.0 0.0 5.284249738045101 6.253361177094286 8.138445676101973]\n",
      " [0.0 1.0 0.0 0.2049907256608563 8.830628087358335 6.162357068797847]\n",
      " [1.0 0.0 0.0 4.629076549996353 3.476273291439674 2.264864064920067]\n",
      " [1.0 0.0 0.0 1.0856957550287805 4.921677316642804 9.562454440839684]\n",
      " [0.0 0.0 1.0 4.095990623090372 9.64337131151585 7.729906058917572]\n",
      " [0.0 1.0 0.0 9.440403906898313 9.939631543008275 6.023613231283429]\n",
      " [0.0 0.0 1.0 1.8719537686246424 4.434835141967112 2.3332864322317457]\n",
      " [0.0 0.0 1.0 8.835478635201493 3.496137461792319 7.096231927887335]\n",
      " [0.0 0.0 1.0 3.10015090298557 5.503703332126687 5.709374115878503]\n",
      " [0.0 0.0 1.0 1.052368207740798 5.390980275656213 6.826123461860182]\n",
      " [1.0 0.0 0.0 8.43339573966184 1.6442729897839214 0.1518487330356122]\n",
      " [1.0 0.0 0.0 9.710102109622108 4.385079591782199 8.901036575354327]\n",
      " [1.0 0.0 0.0 7.375448951085827 4.484598617669264 1.6383897451195517]]\n"
     ]
    }
   ],
   "source": [
    "print(X)"
   ]
  },
  {
   "cell_type": "markdown",
   "metadata": {
    "colab_type": "text",
    "id": "WemVnqgeA70k"
   },
   "source": [
    "## Splitting the dataset into the Training set and Test set"
   ]
  },
  {
   "cell_type": "code",
   "execution_count": 21,
   "metadata": {
    "colab": {},
    "colab_type": "code",
    "id": "Kb_v_ae-A-20"
   },
   "outputs": [
    {
     "data": {
      "text/plain": [
       "array([24.08673759, 47.52923317, 42.91424258, 69.91959493, 57.5074021 ,\n",
       "       73.14772145, 46.18923582, 65.93871286, 52.025174  , 54.97791503])"
      ]
     },
     "execution_count": 21,
     "metadata": {},
     "output_type": "execute_result"
    }
   ],
   "source": [
    "from sklearn.model_selection import train_test_split\n",
    "X_train, X_test, y_train , y_test = train_test_split(X, y, test_size = 0.2, random_state = 0)\n",
    "y_test"
   ]
  },
  {
   "cell_type": "markdown",
   "metadata": {
    "colab_type": "text",
    "id": "k-McZVsQBINc"
   },
   "source": [
    "## Training the Multiple Linear Regression model on the Training set"
   ]
  },
  {
   "cell_type": "code",
   "execution_count": 22,
   "metadata": {
    "colab": {
     "base_uri": "https://localhost:8080/",
     "height": 34
    },
    "colab_type": "code",
    "executionInfo": {
     "elapsed": 757,
     "status": "ok",
     "timestamp": 1586353664008,
     "user": {
      "displayName": "Hadelin de Ponteves",
      "photoUrl": "https://lh3.googleusercontent.com/a-/AOh14GhEuXdT7eQweUmRPW8_laJuPggSK6hfvpl5a6WBaA=s64",
      "userId": "15047218817161520419"
     },
     "user_tz": -240
    },
    "id": "ywPjx0L1BMiD",
    "outputId": "099836bc-4d85-4b4f-a488-093faf02e8cb"
   },
   "outputs": [
    {
     "data": {
      "text/plain": [
       "LinearRegression()"
      ]
     },
     "execution_count": 22,
     "metadata": {},
     "output_type": "execute_result"
    }
   ],
   "source": [
    "from sklearn.linear_model import LinearRegression\n",
    "regressor = LinearRegression()\n",
    "regressor.fit(X_train, y_train)"
   ]
  },
  {
   "cell_type": "markdown",
   "metadata": {
    "colab_type": "text",
    "id": "xNkXL1YQBiBT"
   },
   "source": [
    "## Predicting the Test set results"
   ]
  },
  {
   "cell_type": "code",
   "execution_count": 23,
   "metadata": {
    "colab": {
     "base_uri": "https://localhost:8080/",
     "height": 185
    },
    "colab_type": "code",
    "executionInfo": {
     "elapsed": 951,
     "status": "ok",
     "timestamp": 1586353666678,
     "user": {
      "displayName": "Hadelin de Ponteves",
      "photoUrl": "https://lh3.googleusercontent.com/a-/AOh14GhEuXdT7eQweUmRPW8_laJuPggSK6hfvpl5a6WBaA=s64",
      "userId": "15047218817161520419"
     },
     "user_tz": -240
    },
    "id": "TQKmwvtdBkyb",
    "outputId": "493436bf-a4ae-4374-ca16-0b0c25d19457",
    "scrolled": true
   },
   "outputs": [
    {
     "name": "stdout",
     "output_type": "stream",
     "text": [
      "\n",
      "\n",
      "\n",
      "Predicted  Actual\n",
      "[[32.76 24.09]\n",
      " [44.26 47.53]\n",
      " [48.98 42.91]\n",
      " [60.6  69.92]\n",
      " [67.8  57.51]\n",
      " [61.54 73.15]\n",
      " [41.89 46.19]\n",
      " [71.84 65.94]\n",
      " [55.27 52.03]\n",
      " [58.57 54.98]]\n"
     ]
    }
   ],
   "source": [
    "y_pred = regressor.predict(X_test)\n",
    "\n",
    "np.set_printoptions(precision=2)  ##number of digits to be printed after point\n",
    "print(\"\\n\\n\\nPredicted  Actual\")\n",
    "print(np.concatenate((y_pred.reshape(len(y_pred),1), y_test.reshape(len(y_test),1)),1))"
   ]
  },
  {
   "cell_type": "code",
   "execution_count": 24,
   "metadata": {},
   "outputs": [
    {
     "name": "stdout",
     "output_type": "stream",
     "text": [
      "[[1.0 0.0 0.0 3.04302545277504 2.045824318659508 2.82955914950099\n",
      "  32.75851593239052 24.086737592329925]\n",
      " [0.0 0.0 1.0 2.7478476397914484 2.5438119049071477 8.701888717632402\n",
      "  44.26080822433545 47.5292331702216]\n",
      " [0.0 1.0 0.0 2.8768817448171244 8.554153967095905 5.13141902441332\n",
      "  48.97555552058192 42.91424258004911]\n",
      " [0.0 0.0 1.0 4.095990623090372 9.64337131151585 7.729906058917572\n",
      "  60.60482177636412 69.9195949324981]\n",
      " [0.0 1.0 0.0 9.829396569764056 3.3640572665064417 7.675410184917728\n",
      "  67.79871069011418 57.50740210039718]\n",
      " [1.0 0.0 0.0 7.987045857847603 9.893972976210922 0.955276239738192\n",
      "  61.54059585718094 73.14772144631563]\n",
      " [0.0 1.0 0.0 0.2049907256608563 8.830628087358335 6.162357068797847\n",
      "  41.892750326047334 46.18923582082909]\n",
      " [0.0 0.0 1.0 8.903356153362783 8.794169371397254 5.365719351258972\n",
      "  71.83891667221181 65.93871285801522]\n",
      " [0.0 0.0 1.0 5.447026470243332 5.431228102739531 6.425625246079619\n",
      "  55.26662522085785 52.02517399564089]\n",
      " [0.0 1.0 0.0 6.773743188741003 2.608290028209513 9.375152604294335\n",
      "  58.56707224495899 54.97791502808146]]\n"
     ]
    }
   ],
   "source": [
    "\n",
    "np.set_printoptions(precision=2)\n",
    "print(np.concatenate((X_test ,y_pred.reshape(len(y_pred),1) ,y_test.reshape(len(y_test),1)) ,1))"
   ]
  },
  {
   "cell_type": "code",
   "execution_count": 25,
   "metadata": {},
   "outputs": [
    {
     "data": {
      "text/plain": [
       "10"
      ]
     },
     "execution_count": 25,
     "metadata": {},
     "output_type": "execute_result"
    }
   ],
   "source": [
    "len(y_pred)"
   ]
  },
  {
   "cell_type": "code",
   "execution_count": 26,
   "metadata": {},
   "outputs": [
    {
     "data": {
      "text/plain": [
       "array([24.09, 47.53, 42.91, 69.92, 57.51, 73.15, 46.19, 65.94, 52.03,\n",
       "       54.98])"
      ]
     },
     "execution_count": 26,
     "metadata": {},
     "output_type": "execute_result"
    }
   ],
   "source": [
    "y_test"
   ]
  },
  {
   "cell_type": "code",
   "execution_count": 27,
   "metadata": {},
   "outputs": [
    {
     "data": {
      "text/plain": [
       "array([32.76, 44.26, 48.98, 60.6 , 67.8 , 61.54, 41.89, 71.84, 55.27,\n",
       "       58.57])"
      ]
     },
     "execution_count": 27,
     "metadata": {},
     "output_type": "execute_result"
    }
   ],
   "source": [
    "y_pred"
   ]
  },
  {
   "cell_type": "code",
   "execution_count": null,
   "metadata": {},
   "outputs": [],
   "source": []
  },
  {
   "cell_type": "code",
   "execution_count": null,
   "metadata": {},
   "outputs": [],
   "source": [
    "\n",
    "\n"
   ]
  },
  {
   "cell_type": "code",
   "execution_count": null,
   "metadata": {},
   "outputs": [],
   "source": []
  },
  {
   "cell_type": "code",
   "execution_count": null,
   "metadata": {},
   "outputs": [],
   "source": []
  },
  {
   "cell_type": "code",
   "execution_count": null,
   "metadata": {},
   "outputs": [],
   "source": []
  },
  {
   "cell_type": "code",
   "execution_count": null,
   "metadata": {},
   "outputs": [],
   "source": []
  },
  {
   "cell_type": "code",
   "execution_count": null,
   "metadata": {},
   "outputs": [],
   "source": [
    "\n",
    "\n"
   ]
  },
  {
   "cell_type": "code",
   "execution_count": null,
   "metadata": {},
   "outputs": [],
   "source": []
  },
  {
   "cell_type": "code",
   "execution_count": null,
   "metadata": {},
   "outputs": [],
   "source": []
  },
  {
   "cell_type": "code",
   "execution_count": null,
   "metadata": {},
   "outputs": [],
   "source": []
  },
  {
   "cell_type": "code",
   "execution_count": null,
   "metadata": {},
   "outputs": [],
   "source": []
  },
  {
   "cell_type": "code",
   "execution_count": null,
   "metadata": {},
   "outputs": [],
   "source": []
  },
  {
   "cell_type": "code",
   "execution_count": null,
   "metadata": {},
   "outputs": [],
   "source": []
  },
  {
   "cell_type": "code",
   "execution_count": null,
   "metadata": {},
   "outputs": [],
   "source": []
  },
  {
   "cell_type": "code",
   "execution_count": null,
   "metadata": {},
   "outputs": [],
   "source": []
  },
  {
   "cell_type": "code",
   "execution_count": null,
   "metadata": {},
   "outputs": [],
   "source": []
  },
  {
   "cell_type": "code",
   "execution_count": null,
   "metadata": {},
   "outputs": [],
   "source": []
  },
  {
   "cell_type": "code",
   "execution_count": null,
   "metadata": {},
   "outputs": [],
   "source": [
    "\n"
   ]
  },
  {
   "cell_type": "code",
   "execution_count": null,
   "metadata": {},
   "outputs": [],
   "source": []
  },
  {
   "cell_type": "code",
   "execution_count": null,
   "metadata": {},
   "outputs": [],
   "source": [
    "help(np.random.rand)*10"
   ]
  },
  {
   "cell_type": "code",
   "execution_count": null,
   "metadata": {},
   "outputs": [],
   "source": []
  },
  {
   "cell_type": "code",
   "execution_count": null,
   "metadata": {},
   "outputs": [],
   "source": []
  },
  {
   "cell_type": "code",
   "execution_count": null,
   "metadata": {},
   "outputs": [],
   "source": []
  }
 ],
 "metadata": {
  "colab": {
   "authorship_tag": "ABX9TyPhYhte6t7H4wEK4xPpDWT7",
   "name": "Multiple Linear Regression",
   "provenance": [],
   "toc_visible": true
  },
  "kernelspec": {
   "display_name": "Python 3 (ipykernel)",
   "language": "python",
   "name": "python3"
  },
  "language_info": {
   "codemirror_mode": {
    "name": "ipython",
    "version": 3
   },
   "file_extension": ".py",
   "mimetype": "text/x-python",
   "name": "python",
   "nbconvert_exporter": "python",
   "pygments_lexer": "ipython3",
   "version": "3.9.7"
  }
 },
 "nbformat": 4,
 "nbformat_minor": 1
}
